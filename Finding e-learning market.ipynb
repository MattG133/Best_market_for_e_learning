{
 "cells": [
  {
   "cell_type": "markdown",
   "metadata": {},
   "source": [
    "# <center>Best market for e-learning advertising</center>"
   ]
  },
  {
   "cell_type": "markdown",
   "metadata": {},
   "source": [
    "This is an analysis of computer science job market based on FreeCodeCamp's survey filled by over 15,000 developers. The purpose of this work is to find the best market (country) to target advertising for Computer Science e-learning platform"
   ]
  },
  {
   "cell_type": "code",
   "execution_count": 1,
   "metadata": {},
   "outputs": [],
   "source": [
    "import numpy as np\n",
    "import pandas as pd\n",
    "import matplotlib.pyplot as plt\n",
    "%matplotlib inline"
   ]
  },
  {
   "cell_type": "code",
   "execution_count": 2,
   "metadata": {},
   "outputs": [
    {
     "name": "stderr",
     "output_type": "stream",
     "text": [
      "/Users/Maciek/anaconda3/lib/python3.7/site-packages/IPython/core/interactiveshell.py:3020: DtypeWarning: Columns (17,62) have mixed types. Specify dtype option on import or set low_memory=False.\n",
      "  interactivity=interactivity, compiler=compiler, result=result)\n"
     ]
    },
    {
     "data": {
      "text/html": [
       "<div>\n",
       "<style scoped>\n",
       "    .dataframe tbody tr th:only-of-type {\n",
       "        vertical-align: middle;\n",
       "    }\n",
       "\n",
       "    .dataframe tbody tr th {\n",
       "        vertical-align: top;\n",
       "    }\n",
       "\n",
       "    .dataframe thead th {\n",
       "        text-align: right;\n",
       "    }\n",
       "</style>\n",
       "<table border=\"1\" class=\"dataframe\">\n",
       "  <thead>\n",
       "    <tr style=\"text-align: right;\">\n",
       "      <th></th>\n",
       "      <th>Age</th>\n",
       "      <th>AttendedBootcamp</th>\n",
       "      <th>BootcampFinish</th>\n",
       "      <th>BootcampLoanYesNo</th>\n",
       "      <th>BootcampName</th>\n",
       "      <th>BootcampRecommend</th>\n",
       "      <th>ChildrenNumber</th>\n",
       "      <th>CityPopulation</th>\n",
       "      <th>CodeEventConferences</th>\n",
       "      <th>CodeEventDjangoGirls</th>\n",
       "      <th>...</th>\n",
       "      <th>YouTubeFCC</th>\n",
       "      <th>YouTubeFunFunFunction</th>\n",
       "      <th>YouTubeGoogleDev</th>\n",
       "      <th>YouTubeLearnCode</th>\n",
       "      <th>YouTubeLevelUpTuts</th>\n",
       "      <th>YouTubeMIT</th>\n",
       "      <th>YouTubeMozillaHacks</th>\n",
       "      <th>YouTubeOther</th>\n",
       "      <th>YouTubeSimplilearn</th>\n",
       "      <th>YouTubeTheNewBoston</th>\n",
       "    </tr>\n",
       "  </thead>\n",
       "  <tbody>\n",
       "    <tr>\n",
       "      <th>0</th>\n",
       "      <td>27.0</td>\n",
       "      <td>0.0</td>\n",
       "      <td>NaN</td>\n",
       "      <td>NaN</td>\n",
       "      <td>NaN</td>\n",
       "      <td>NaN</td>\n",
       "      <td>NaN</td>\n",
       "      <td>more than 1 million</td>\n",
       "      <td>NaN</td>\n",
       "      <td>NaN</td>\n",
       "      <td>...</td>\n",
       "      <td>NaN</td>\n",
       "      <td>NaN</td>\n",
       "      <td>NaN</td>\n",
       "      <td>NaN</td>\n",
       "      <td>NaN</td>\n",
       "      <td>NaN</td>\n",
       "      <td>NaN</td>\n",
       "      <td>NaN</td>\n",
       "      <td>NaN</td>\n",
       "      <td>NaN</td>\n",
       "    </tr>\n",
       "    <tr>\n",
       "      <th>1</th>\n",
       "      <td>34.0</td>\n",
       "      <td>0.0</td>\n",
       "      <td>NaN</td>\n",
       "      <td>NaN</td>\n",
       "      <td>NaN</td>\n",
       "      <td>NaN</td>\n",
       "      <td>NaN</td>\n",
       "      <td>less than 100,000</td>\n",
       "      <td>NaN</td>\n",
       "      <td>NaN</td>\n",
       "      <td>...</td>\n",
       "      <td>1.0</td>\n",
       "      <td>NaN</td>\n",
       "      <td>NaN</td>\n",
       "      <td>NaN</td>\n",
       "      <td>NaN</td>\n",
       "      <td>NaN</td>\n",
       "      <td>NaN</td>\n",
       "      <td>NaN</td>\n",
       "      <td>NaN</td>\n",
       "      <td>NaN</td>\n",
       "    </tr>\n",
       "    <tr>\n",
       "      <th>2</th>\n",
       "      <td>21.0</td>\n",
       "      <td>0.0</td>\n",
       "      <td>NaN</td>\n",
       "      <td>NaN</td>\n",
       "      <td>NaN</td>\n",
       "      <td>NaN</td>\n",
       "      <td>NaN</td>\n",
       "      <td>more than 1 million</td>\n",
       "      <td>NaN</td>\n",
       "      <td>NaN</td>\n",
       "      <td>...</td>\n",
       "      <td>NaN</td>\n",
       "      <td>NaN</td>\n",
       "      <td>NaN</td>\n",
       "      <td>1.0</td>\n",
       "      <td>1.0</td>\n",
       "      <td>NaN</td>\n",
       "      <td>NaN</td>\n",
       "      <td>NaN</td>\n",
       "      <td>NaN</td>\n",
       "      <td>NaN</td>\n",
       "    </tr>\n",
       "    <tr>\n",
       "      <th>3</th>\n",
       "      <td>26.0</td>\n",
       "      <td>0.0</td>\n",
       "      <td>NaN</td>\n",
       "      <td>NaN</td>\n",
       "      <td>NaN</td>\n",
       "      <td>NaN</td>\n",
       "      <td>NaN</td>\n",
       "      <td>between 100,000 and 1 million</td>\n",
       "      <td>NaN</td>\n",
       "      <td>NaN</td>\n",
       "      <td>...</td>\n",
       "      <td>1.0</td>\n",
       "      <td>1.0</td>\n",
       "      <td>NaN</td>\n",
       "      <td>NaN</td>\n",
       "      <td>1.0</td>\n",
       "      <td>NaN</td>\n",
       "      <td>NaN</td>\n",
       "      <td>NaN</td>\n",
       "      <td>NaN</td>\n",
       "      <td>NaN</td>\n",
       "    </tr>\n",
       "    <tr>\n",
       "      <th>4</th>\n",
       "      <td>20.0</td>\n",
       "      <td>0.0</td>\n",
       "      <td>NaN</td>\n",
       "      <td>NaN</td>\n",
       "      <td>NaN</td>\n",
       "      <td>NaN</td>\n",
       "      <td>NaN</td>\n",
       "      <td>between 100,000 and 1 million</td>\n",
       "      <td>NaN</td>\n",
       "      <td>NaN</td>\n",
       "      <td>...</td>\n",
       "      <td>NaN</td>\n",
       "      <td>NaN</td>\n",
       "      <td>NaN</td>\n",
       "      <td>NaN</td>\n",
       "      <td>NaN</td>\n",
       "      <td>NaN</td>\n",
       "      <td>NaN</td>\n",
       "      <td>NaN</td>\n",
       "      <td>NaN</td>\n",
       "      <td>NaN</td>\n",
       "    </tr>\n",
       "  </tbody>\n",
       "</table>\n",
       "<p>5 rows × 136 columns</p>\n",
       "</div>"
      ],
      "text/plain": [
       "    Age  AttendedBootcamp  BootcampFinish  BootcampLoanYesNo BootcampName  \\\n",
       "0  27.0               0.0             NaN                NaN          NaN   \n",
       "1  34.0               0.0             NaN                NaN          NaN   \n",
       "2  21.0               0.0             NaN                NaN          NaN   \n",
       "3  26.0               0.0             NaN                NaN          NaN   \n",
       "4  20.0               0.0             NaN                NaN          NaN   \n",
       "\n",
       "   BootcampRecommend  ChildrenNumber                 CityPopulation  \\\n",
       "0                NaN             NaN            more than 1 million   \n",
       "1                NaN             NaN              less than 100,000   \n",
       "2                NaN             NaN            more than 1 million   \n",
       "3                NaN             NaN  between 100,000 and 1 million   \n",
       "4                NaN             NaN  between 100,000 and 1 million   \n",
       "\n",
       "   CodeEventConferences  CodeEventDjangoGirls         ...           \\\n",
       "0                   NaN                   NaN         ...            \n",
       "1                   NaN                   NaN         ...            \n",
       "2                   NaN                   NaN         ...            \n",
       "3                   NaN                   NaN         ...            \n",
       "4                   NaN                   NaN         ...            \n",
       "\n",
       "   YouTubeFCC  YouTubeFunFunFunction  YouTubeGoogleDev  YouTubeLearnCode  \\\n",
       "0         NaN                    NaN               NaN               NaN   \n",
       "1         1.0                    NaN               NaN               NaN   \n",
       "2         NaN                    NaN               NaN               1.0   \n",
       "3         1.0                    1.0               NaN               NaN   \n",
       "4         NaN                    NaN               NaN               NaN   \n",
       "\n",
       "   YouTubeLevelUpTuts  YouTubeMIT  YouTubeMozillaHacks YouTubeOther  \\\n",
       "0                 NaN         NaN                  NaN          NaN   \n",
       "1                 NaN         NaN                  NaN          NaN   \n",
       "2                 1.0         NaN                  NaN          NaN   \n",
       "3                 1.0         NaN                  NaN          NaN   \n",
       "4                 NaN         NaN                  NaN          NaN   \n",
       "\n",
       "   YouTubeSimplilearn  YouTubeTheNewBoston  \n",
       "0                 NaN                  NaN  \n",
       "1                 NaN                  NaN  \n",
       "2                 NaN                  NaN  \n",
       "3                 NaN                  NaN  \n",
       "4                 NaN                  NaN  \n",
       "\n",
       "[5 rows x 136 columns]"
      ]
     },
     "execution_count": 2,
     "metadata": {},
     "output_type": "execute_result"
    }
   ],
   "source": [
    "survey = pd.read_csv('survey_data.csv')\n",
    "survey.head()"
   ]
  },
  {
   "cell_type": "code",
   "execution_count": 3,
   "metadata": {},
   "outputs": [
    {
     "data": {
      "text/plain": [
       "(18175, 136)"
      ]
     },
     "execution_count": 3,
     "metadata": {},
     "output_type": "execute_result"
    }
   ],
   "source": [
    "survey.shape"
   ]
  },
  {
   "cell_type": "code",
   "execution_count": 4,
   "metadata": {
    "scrolled": true
   },
   "outputs": [
    {
     "data": {
      "text/plain": [
       "Index(['IsUnderEmployed', 'JobApplyWhen', 'JobInterestBackEnd',\n",
       "       'JobInterestDataEngr', 'JobInterestDataSci', 'JobInterestDevOps',\n",
       "       'JobInterestFrontEnd', 'JobInterestFullStack', 'JobInterestGameDev',\n",
       "       'JobInterestInfoSec', 'JobInterestMobile', 'JobInterestOther',\n",
       "       'JobInterestProjMngr', 'JobInterestQAEngr', 'JobInterestUX', 'JobPref',\n",
       "       'JobRelocateYesNo', 'JobRoleInterest', 'JobWherePref'],\n",
       "      dtype='object')"
      ]
     },
     "execution_count": 4,
     "metadata": {},
     "output_type": "execute_result"
    }
   ],
   "source": [
    "survey.columns[51:70]"
   ]
  },
  {
   "cell_type": "markdown",
   "metadata": {},
   "source": [
    "This is a dataset from a survey conducted by FreeCodeCamp and filled by over 15,000 developers. This survey asks basic questions about background, preferences, interests, skills, earnings of developers. It can prove very useful in achieving uor goal of finding two best markets for advertising Computer Science e-learning platform. This is a reason why I've decided to use this dataset instead of conducting my own survey, it is also much cheaper and takes less time to finish. The dataset can be downloaded [here](https://github.com/freeCodeCamp/2017-new-coder-survey)."
   ]
  },
  {
   "cell_type": "code",
   "execution_count": 5,
   "metadata": {
    "scrolled": true
   },
   "outputs": [
    {
     "data": {
      "text/plain": [
       "Full-Stack Web Developer                                                                                                                                                                                                                                                    11.770595\n",
       "  Front-End Web Developer                                                                                                                                                                                                                                                    6.435927\n",
       "  Data Scientist                                                                                                                                                                                                                                                             2.173913\n",
       "Back-End Web Developer                                                                                                                                                                                                                                                       2.030892\n",
       "  Mobile Developer                                                                                                                                                                                                                                                           1.673341\n",
       "Game Developer                                                                                                                                                                                                                                                               1.630435\n",
       "Information Security                                                                                                                                                                                                                                                         1.315789\n",
       "Full-Stack Web Developer,   Front-End Web Developer                                                                                                                                                                                                                          0.915332\n",
       "  Front-End Web Developer, Full-Stack Web Developer                                                                                                                                                                                                                          0.800915\n",
       "  Product Manager                                                                                                                                                                                                                                                            0.786613\n",
       "Data Engineer                                                                                                                                                                                                                                                                0.758009\n",
       "  User Experience Designer                                                                                                                                                                                                                                                   0.743707\n",
       "  User Experience Designer,   Front-End Web Developer                                                                                                                                                                                                                        0.614989\n",
       "  Front-End Web Developer, Back-End Web Developer, Full-Stack Web Developer                                                                                                                                                                                                  0.557780\n",
       "Back-End Web Developer,   Front-End Web Developer, Full-Stack Web Developer                                                                                                                                                                                                  0.514874\n",
       "  DevOps / SysAdmin                                                                                                                                                                                                                                                          0.514874\n",
       "Back-End Web Developer, Full-Stack Web Developer,   Front-End Web Developer                                                                                                                                                                                                  0.514874\n",
       "Full-Stack Web Developer,   Front-End Web Developer, Back-End Web Developer                                                                                                                                                                                                  0.443364\n",
       "  Front-End Web Developer, Full-Stack Web Developer, Back-End Web Developer                                                                                                                                                                                                  0.429062\n",
       "Full-Stack Web Developer,   Mobile Developer                                                                                                                                                                                                                                 0.414760\n",
       "  Front-End Web Developer,   User Experience Designer                                                                                                                                                                                                                        0.414760\n",
       "Back-End Web Developer, Full-Stack Web Developer                                                                                                                                                                                                                             0.386156\n",
       "Full-Stack Web Developer, Back-End Web Developer                                                                                                                                                                                                                             0.371854\n",
       "Back-End Web Developer,   Front-End Web Developer                                                                                                                                                                                                                            0.286041\n",
       "Full-Stack Web Developer, Back-End Web Developer,   Front-End Web Developer                                                                                                                                                                                                  0.271739\n",
       "Data Engineer,   Data Scientist                                                                                                                                                                                                                                              0.271739\n",
       "  Front-End Web Developer,   Mobile Developer                                                                                                                                                                                                                                0.257437\n",
       "Full-Stack Web Developer,   Data Scientist                                                                                                                                                                                                                                   0.243135\n",
       "  Mobile Developer, Game Developer                                                                                                                                                                                                                                           0.228833\n",
       "  Data Scientist, Data Engineer                                                                                                                                                                                                                                              0.228833\n",
       "                                                                                                                                                                                                                                                                              ...    \n",
       "Data Engineer, Back-End Web Developer,   Data Scientist,   DevOps / SysAdmin,   User Experience Designer, Information Security, Artificial Intelligence                                                                                                                      0.014302\n",
       "Full-Stack Web Developer,   Mobile Developer,   DevOps / SysAdmin,   Data Scientist, Back-End Web Developer                                                                                                                                                                  0.014302\n",
       "Information Security, Full-Stack Web Developer,   Front-End Web Developer,   User Experience Designer,   Mobile Developer                                                                                                                                                    0.014302\n",
       "  Front-End Web Developer,   User Experience Designer,   Mobile Developer, Information Security, Back-End Web Developer, Full-Stack Web Developer                                                                                                                            0.014302\n",
       "Full-Stack Web Developer,   Product Manager,   Mobile Developer, Information Security                                                                                                                                                                                        0.014302\n",
       "  Mobile Developer, Full-Stack Web Developer,   User Experience Designer,   Front-End Web Developer, creative coder / generative artist/designer                                                                                                                             0.014302\n",
       "Full-Stack Web Developer,   Mobile Developer,   User Experience Designer,   Front-End Web Developer, Back-End Web Developer                                                                                                                                                  0.014302\n",
       "Data Engineer,   Data Scientist,   Mobile Developer, Full-Stack Web Developer                                                                                                                                                                                                0.014302\n",
       "Information Security,   Quality Assurance Engineer,   DevOps / SysAdmin,   Data Scientist                                                                                                                                                                                    0.014302\n",
       "  Quality Assurance Engineer,   Front-End Web Developer,   User Experience Designer, Full-Stack Web Developer, Information Security                                                                                                                                          0.014302\n",
       "  Data Scientist, Game Developer, Full-Stack Web Developer,   Mobile Developer, Back-End Web Developer                                                                                                                                                                       0.014302\n",
       "  Front-End Web Developer,   Product Manager, Data Engineer,   Data Scientist, Full-Stack Web Developer, Back-End Web Developer, Information Security,   Mobile Developer,   Quality Assurance Engineer, Game Developer,   User Experience Designer,   DevOps / SysAdmin     0.014302\n",
       "  Front-End Web Developer,   DevOps / SysAdmin, Back-End Web Developer, Data Engineer                                                                                                                                                                                        0.014302\n",
       "Information Security,   Data Scientist, Full-Stack Web Developer, Data Engineer                                                                                                                                                                                              0.014302\n",
       "  Product Manager,   Front-End Web Developer, Information Security, Full-Stack Web Developer, Data Engineer,   DevOps / SysAdmin,   Data Scientist, Back-End Web Developer,   Quality Assurance Engineer,   Mobile Developer                                                 0.014302\n",
       "Game Developer,   Quality Assurance Engineer, Back-End Web Developer,   Front-End Web Developer                                                                                                                                                                              0.014302\n",
       "Game Developer,   Data Scientist, Full-Stack Web Developer,   DevOps / SysAdmin,   Product Manager, Information Security,   Quality Assurance Engineer,   Front-End Web Developer, Data Engineer,   Mobile Developer,   User Experience Designer, Back-End Web Developer     0.014302\n",
       "Game Developer, Data Engineer, Information Security, Full-Stack Web Developer, Back-End Web Developer,   Front-End Web Developer,   Data Scientist                                                                                                                           0.014302\n",
       "  Mobile Developer, Game Developer, Information Security,   Data Scientist, Back-End Web Developer,   Front-End Web Developer,   DevOps / SysAdmin, Data Engineer                                                                                                            0.014302\n",
       "  Front-End Web Developer,   User Experience Designer, Data Engineer, Back-End Web Developer,   Mobile Developer, Full-Stack Web Developer                                                                                                                                   0.014302\n",
       "Back-End Web Developer, Data Engineer,   Data Scientist, Information Security,   Mobile Developer,   Product Manager, Full-Stack Web Developer                                                                                                                               0.014302\n",
       "improving in my current career as a Learning technologist                                                                                                                                                                                                                    0.014302\n",
       "Data Engineer, Back-End Web Developer,   Front-End Web Developer                                                                                                                                                                                                             0.014302\n",
       "Back-End Web Developer,   DevOps / SysAdmin,   Data Scientist, Data Engineer, Full-Stack Web Developer                                                                                                                                                                       0.014302\n",
       "  Front-End Web Developer,   Data Scientist,   Mobile Developer, Data Engineer, Full-Stack Web Developer,   User Experience Designer                                                                                                                                         0.014302\n",
       "  Data Scientist, Full-Stack Web Developer, Data Engineer, Information Security, Game Developer                                                                                                                                                                              0.014302\n",
       "  Data Scientist, Full-Stack Web Developer,   Front-End Web Developer, Game Developer,   Mobile Developer                                                                                                                                                                    0.014302\n",
       "  Data Scientist,   Mobile Developer, Full-Stack Web Developer,   Front-End Web Developer, Back-End Web Developer, Data Engineer                                                                                                                                             0.014302\n",
       "  Quality Assurance Engineer,   User Experience Designer,   Front-End Web Developer, Full-Stack Web Developer, Back-End Web Developer                                                                                                                                        0.014302\n",
       "Full-Stack Web Developer,   Mobile Developer,   User Experience Designer, Back-End Web Developer,   Front-End Web Developer                                                                                                                                                  0.014302\n",
       "Name: JobRoleInterest, Length: 3213, dtype: float64"
      ]
     },
     "execution_count": 5,
     "metadata": {},
     "output_type": "execute_result"
    }
   ],
   "source": [
    "#checking if the sample is representative, creating frequency distribution sample of 'JobRoleInterest' column\n",
    "frequency_dist = survey['JobRoleInterest'].value_counts(normalize=True) * 100\n",
    "frequency_dist"
   ]
  },
  {
   "cell_type": "code",
   "execution_count": 6,
   "metadata": {},
   "outputs": [
    {
     "data": {
      "text/plain": [
       "86.29862700228833"
      ]
     },
     "execution_count": 6,
     "metadata": {},
     "output_type": "execute_result"
    }
   ],
   "source": [
    "#calculating how many of the Job Roles in the columns are conected to Web or Mobile development\n",
    "frequency_dist[frequency_dist.index.str.contains('Web|Mobile')].sum()"
   ]
  },
  {
   "cell_type": "code",
   "execution_count": 7,
   "metadata": {},
   "outputs": [
    {
     "data": {
      "text/plain": [
       "0.9651416122004357"
      ]
     },
     "execution_count": 7,
     "metadata": {},
     "output_type": "execute_result"
    }
   ],
   "source": [
    "#calculating number of indexes with more than one role of interest\n",
    "frequency_dist[frequency_dist.index.str.contains(',')].count()/len(frequency_dist.index)\n"
   ]
  },
  {
   "cell_type": "markdown",
   "metadata": {},
   "source": [
    "Above we can see that most people are interested in more than one subject, in fact almost all of the respondents are (over 96%), 86% of responders are interested in Web or Mobile development so that is a very good sample for our analysis."
   ]
  },
  {
   "cell_type": "code",
   "execution_count": 8,
   "metadata": {},
   "outputs": [],
   "source": [
    "one_role = frequency_dist[frequency_dist.index.str.contains(',') == False].count()\n"
   ]
  },
  {
   "cell_type": "code",
   "execution_count": 9,
   "metadata": {},
   "outputs": [],
   "source": [
    "two_roles = frequency_dist[frequency_dist.index.str.contains(',')].count() - frequency_dist[frequency_dist.index.str.contains(',.*,')].count()"
   ]
  },
  {
   "cell_type": "code",
   "execution_count": 10,
   "metadata": {},
   "outputs": [],
   "source": [
    "three_roles = frequency_dist[frequency_dist.index.str.contains(',.*,.*,')].count() - frequency_dist[frequency_dist.index.str.contains(',.*,.*,.*,')].count()"
   ]
  },
  {
   "cell_type": "code",
   "execution_count": 11,
   "metadata": {},
   "outputs": [],
   "source": [
    "four_and_more_roles = frequency_dist[frequency_dist.index.str.contains(',.*,.*,.*,')].count()"
   ]
  },
  {
   "cell_type": "code",
   "execution_count": 12,
   "metadata": {},
   "outputs": [],
   "source": [
    "num_roles_wanted = pd.DataFrame(index=[1,2,3, 4], data=[one_role, two_roles, three_roles, four_and_more_roles])"
   ]
  },
  {
   "cell_type": "code",
   "execution_count": 13,
   "metadata": {},
   "outputs": [],
   "source": [
    "num_roles_wanted[1] = ['one role', 'two roles', 'three roles', 'four or more roles']"
   ]
  },
  {
   "cell_type": "code",
   "execution_count": 14,
   "metadata": {},
   "outputs": [
    {
     "data": {
      "text/html": [
       "<div>\n",
       "<style scoped>\n",
       "    .dataframe tbody tr th:only-of-type {\n",
       "        vertical-align: middle;\n",
       "    }\n",
       "\n",
       "    .dataframe tbody tr th {\n",
       "        vertical-align: top;\n",
       "    }\n",
       "\n",
       "    .dataframe thead th {\n",
       "        text-align: right;\n",
       "    }\n",
       "</style>\n",
       "<table border=\"1\" class=\"dataframe\">\n",
       "  <thead>\n",
       "    <tr style=\"text-align: right;\">\n",
       "      <th></th>\n",
       "      <th>0</th>\n",
       "      <th>1</th>\n",
       "    </tr>\n",
       "  </thead>\n",
       "  <tbody>\n",
       "    <tr>\n",
       "      <th>1</th>\n",
       "      <td>112</td>\n",
       "      <td>one role</td>\n",
       "    </tr>\n",
       "    <tr>\n",
       "      <th>2</th>\n",
       "      <td>119</td>\n",
       "      <td>two roles</td>\n",
       "    </tr>\n",
       "    <tr>\n",
       "      <th>3</th>\n",
       "      <td>755</td>\n",
       "      <td>three roles</td>\n",
       "    </tr>\n",
       "    <tr>\n",
       "      <th>4</th>\n",
       "      <td>1785</td>\n",
       "      <td>four or more roles</td>\n",
       "    </tr>\n",
       "  </tbody>\n",
       "</table>\n",
       "</div>"
      ],
      "text/plain": [
       "      0                   1\n",
       "1   112            one role\n",
       "2   119           two roles\n",
       "3   755         three roles\n",
       "4  1785  four or more roles"
      ]
     },
     "execution_count": 14,
     "metadata": {},
     "output_type": "execute_result"
    }
   ],
   "source": [
    "num_roles_wanted"
   ]
  },
  {
   "cell_type": "code",
   "execution_count": 15,
   "metadata": {},
   "outputs": [
    {
     "data": {
      "text/plain": [
       "Text(0.5, 1.0, 'Distribution of the number of roles each developer is interested in')"
      ]
     },
     "execution_count": 15,
     "metadata": {},
     "output_type": "execute_result"
    },
    {
     "data": {
      "image/png": "[encoded data removed]",
      "text/plain": [
       "<Figure size 720x720 with 1 Axes>"
      ]
     },
     "metadata": {},
     "output_type": "display_data"
    }
   ],
   "source": [
    "font = {\n",
    "        'size'   : 15\n",
    "       }\n",
    "\n",
    "plt.rc('font', **font)\n",
    "plt.figure(figsize=(10,10))\n",
    "plt.pie(x=num_roles_wanted[0], labels=num_roles_wanted[1], autopct='%.1f%%')\n",
    "plt.title('Distribution of the number of roles each developer is interested in')"
   ]
  },
  {
   "cell_type": "markdown",
   "metadata": {},
   "source": [
    "Most of programmers are interested in more than three roles."
   ]
  },
  {
   "cell_type": "code",
   "execution_count": 16,
   "metadata": {},
   "outputs": [],
   "source": [
    "#Dropping missing values from JobRoleInterest column since these rows are of no use and lack of them should not bring any harm\n",
    "survey.dropna(subset=['JobRoleInterest'], inplace=True)"
   ]
  },
  {
   "cell_type": "code",
   "execution_count": 17,
   "metadata": {},
   "outputs": [
    {
     "data": {
      "text/plain": [
       "United States of America         3125\n",
       "India                             528\n",
       "United Kingdom                    315\n",
       "Canada                            260\n",
       "Poland                            131\n",
       "Brazil                            129\n",
       "Germany                           125\n",
       "Australia                         112\n",
       "Russia                            102\n",
       "Ukraine                            89\n",
       "Nigeria                            84\n",
       "Spain                              77\n",
       "France                             75\n",
       "Romania                            71\n",
       "Netherlands (Holland, Europe)      65\n",
       "Italy                              62\n",
       "Serbia                             52\n",
       "Philippines                        52\n",
       "Greece                             46\n",
       "Ireland                            43\n",
       "South Africa                       39\n",
       "Mexico                             37\n",
       "Turkey                             36\n",
       "Hungary                            34\n",
       "Singapore                          34\n",
       "New Zealand                        33\n",
       "Croatia                            32\n",
       "Argentina                          32\n",
       "Pakistan                           31\n",
       "Norway                             31\n",
       "                                 ... \n",
       "Myanmar                             1\n",
       "Somalia                             1\n",
       "Anguilla                            1\n",
       "Qatar                               1\n",
       "Jordan                              1\n",
       "Vanuatu                             1\n",
       "Botswana                            1\n",
       "Gibraltar                           1\n",
       "Aruba                               1\n",
       "Cameroon                            1\n",
       "Channel Islands                     1\n",
       "Nicaragua                           1\n",
       "Gambia                              1\n",
       "Guadeloupe                          1\n",
       "Trinidad & Tobago                   1\n",
       "Turkmenistan                        1\n",
       "Panama                              1\n",
       "Mozambique                          1\n",
       "Papua New Guinea                    1\n",
       "Kyrgyzstan                          1\n",
       "Angola                              1\n",
       "Yemen                               1\n",
       "Liberia                             1\n",
       "Nambia                              1\n",
       "Sudan                               1\n",
       "Cayman Islands                      1\n",
       "Rwanda                              1\n",
       "Bolivia                             1\n",
       "Samoa                               1\n",
       "Guatemala                           1\n",
       "Name: CountryLive, Length: 137, dtype: int64"
      ]
     },
     "execution_count": 17,
     "metadata": {},
     "output_type": "execute_result"
    }
   ],
   "source": [
    "survey['CountryLive'].value_counts()"
   ]
  },
  {
   "cell_type": "code",
   "execution_count": 18,
   "metadata": {},
   "outputs": [
    {
     "data": {
      "text/plain": [
       "United States of America         0.457005\n",
       "India                            0.077216\n",
       "United Kingdom                   0.046066\n",
       "Canada                           0.038023\n",
       "Poland                           0.019158\n",
       "Brazil                           0.018865\n",
       "Germany                          0.018280\n",
       "Australia                        0.016379\n",
       "Russia                           0.014917\n",
       "Ukraine                          0.013016\n",
       "Nigeria                          0.012284\n",
       "Spain                            0.011261\n",
       "France                           0.010968\n",
       "Romania                          0.010383\n",
       "Netherlands (Holland, Europe)    0.009506\n",
       "Italy                            0.009067\n",
       "Serbia                           0.007605\n",
       "Philippines                      0.007605\n",
       "Greece                           0.006727\n",
       "Ireland                          0.006288\n",
       "South Africa                     0.005703\n",
       "Mexico                           0.005411\n",
       "Turkey                           0.005265\n",
       "Hungary                          0.004972\n",
       "Singapore                        0.004972\n",
       "New Zealand                      0.004826\n",
       "Croatia                          0.004680\n",
       "Argentina                        0.004680\n",
       "Pakistan                         0.004533\n",
       "Norway                           0.004533\n",
       "                                   ...   \n",
       "Myanmar                          0.000146\n",
       "Somalia                          0.000146\n",
       "Anguilla                         0.000146\n",
       "Qatar                            0.000146\n",
       "Jordan                           0.000146\n",
       "Vanuatu                          0.000146\n",
       "Botswana                         0.000146\n",
       "Gibraltar                        0.000146\n",
       "Aruba                            0.000146\n",
       "Cameroon                         0.000146\n",
       "Channel Islands                  0.000146\n",
       "Nicaragua                        0.000146\n",
       "Gambia                           0.000146\n",
       "Guadeloupe                       0.000146\n",
       "Trinidad & Tobago                0.000146\n",
       "Turkmenistan                     0.000146\n",
       "Panama                           0.000146\n",
       "Mozambique                       0.000146\n",
       "Papua New Guinea                 0.000146\n",
       "Kyrgyzstan                       0.000146\n",
       "Angola                           0.000146\n",
       "Yemen                            0.000146\n",
       "Liberia                          0.000146\n",
       "Nambia                           0.000146\n",
       "Sudan                            0.000146\n",
       "Cayman Islands                   0.000146\n",
       "Rwanda                           0.000146\n",
       "Bolivia                          0.000146\n",
       "Samoa                            0.000146\n",
       "Guatemala                        0.000146\n",
       "Name: CountryLive, Length: 137, dtype: float64"
      ]
     },
     "execution_count": 18,
     "metadata": {},
     "output_type": "execute_result"
    }
   ],
   "source": [
    "survey['CountryLive'].value_counts(normalize=True)"
   ]
  },
  {
   "cell_type": "markdown",
   "metadata": {},
   "source": [
    "Countries were most  new programmers seem to Live are United States (45% of all coders), India (7.7%), the UK (4.6%), Canada (3.8%). These countries are probably the best markets to advertise in. Also these are (for the most part, at least) english speaking countries, which is a language our platform is build on."
   ]
  },
  {
   "cell_type": "code",
   "execution_count": 19,
   "metadata": {},
   "outputs": [],
   "source": [
    "#replacing all values 0 to 1 to avoid dividing by zero\n",
    "survey['MonthsProgramming'].replace(0,1, inplace=True)\n",
    "survey['MoneySpent'] = survey['MoneyForLearning'] / survey['MonthsProgramming']"
   ]
  },
  {
   "cell_type": "code",
   "execution_count": 20,
   "metadata": {},
   "outputs": [
    {
     "data": {
      "text/plain": [
       "6992"
      ]
     },
     "execution_count": 20,
     "metadata": {},
     "output_type": "execute_result"
    }
   ],
   "source": [
    "survey['MoneySpent'].isnull().count()"
   ]
  },
  {
   "cell_type": "code",
   "execution_count": 21,
   "metadata": {},
   "outputs": [
    {
     "name": "stderr",
     "output_type": "stream",
     "text": [
      "/Users/Maciek/anaconda3/lib/python3.7/site-packages/ipykernel_launcher.py:1: SettingWithCopyWarning: \n",
      "A value is trying to be set on a copy of a slice from a DataFrame\n",
      "\n",
      "See the caveats in the documentation: http://pandas.pydata.org/pandas-docs/stable/indexing.html#indexing-view-versus-copy\n",
      "  \"\"\"Entry point for launching an IPython kernel.\n"
     ]
    }
   ],
   "source": [
    "survey[['MoneySpent', 'CountryLive']].dropna(inplace=True)"
   ]
  },
  {
   "cell_type": "code",
   "execution_count": 22,
   "metadata": {},
   "outputs": [
    {
     "data": {
      "text/plain": [
       "CountryLive\n",
       "United States of America    227.997996\n",
       "India                       135.100982\n",
       "United Kingdom               45.534443\n",
       "Canada                      113.510961\n",
       "Name: MoneySpent, dtype: float64"
      ]
     },
     "execution_count": 22,
     "metadata": {},
     "output_type": "execute_result"
    }
   ],
   "source": [
    "group_mean = survey.groupby('CountryLive')['MoneySpent'].agg(np.mean).sort_values(ascending=False)\n",
    "group_mean[['United States of America', 'India', 'United Kingdom', 'Canada']]"
   ]
  },
  {
   "cell_type": "markdown",
   "metadata": {},
   "source": [
    "Among four countries chosen earlier, average money spent on learning per month is the highest in the US, followed by India and Canada. The UK has a very low figure, which seems even false. Even Canada has a low value, at least relative to India, which is significantly poorer than those two countries. "
   ]
  },
  {
   "cell_type": "code",
   "execution_count": 23,
   "metadata": {},
   "outputs": [
    {
     "data": {
      "text/plain": [
       "Text(0.5, 1.0, 'Money spent per month per country')"
      ]
     },
     "execution_count": 23,
     "metadata": {},
     "output_type": "execute_result"
    },
    {
     "data": {
      "image/png": "[encoded data removed]",
      "text/plain": [
       "<Figure size 432x288 with 1 Axes>"
      ]
     },
     "metadata": {},
     "output_type": "display_data"
    }
   ],
   "source": [
    "four_countries = survey[(survey['CountryLive'] == 'United States of America') | (survey['CountryLive'] == 'India') | (survey['CountryLive'] == 'United Kingdom') | (survey['CountryLive'] == 'Canada')]\n",
    "\n",
    "import seaborn as sns\n",
    "plt.style.use('seaborn-darkgrid')\n",
    "sns.boxplot(x='CountryLive', y='MoneySpent', data=four_countries)\n",
    "plt.xticks(ticks=[0,1,2,3],labels=['USA', 'UK', 'India', 'Canada'])\n",
    "plt.xlabel('')\n",
    "plt.title('Money spent per month per country')\n",
    "\n"
   ]
  },
  {
   "cell_type": "markdown",
   "metadata": {},
   "source": [
    "There are a lot of outliers in each country. It would be best to remove them, so they do not influence the outcome of the analysis. Good way to do this can be throwing away all values higher than 20 times interquartile range."
   ]
  },
  {
   "cell_type": "markdown",
   "metadata": {},
   "source": [
    "# Change the method of removing outliers"
   ]
  },
  {
   "cell_type": "code",
   "execution_count": 43,
   "metadata": {},
   "outputs": [
    {
     "data": {
      "text/plain": [
       "Text(0.5, 1.0, 'Money spent per month per country (no outliers)')"
      ]
     },
     "execution_count": 43,
     "metadata": {},
     "output_type": "execute_result"
    },
    {
     "data": {
      "image/png": "[encoded data removed]",
      "text/plain": [
       "<Figure size 432x288 with 1 Axes>"
      ]
     },
     "metadata": {},
     "output_type": "display_data"
    }
   ],
   "source": [
    "q = (four_countries['MoneySpent'].quantile(.75) - four_countries['MoneySpent'].quantile(.25)) * 100\n",
    "no_outliers = four_countries[np.abs(four_countries['MoneySpent']) < q]\n",
    "sns.boxplot(x='CountryLive', y='MoneySpent', data=no_outliers)\n",
    "plt.xticks(ticks=[0,1,2,3],labels=['USA', 'UK', 'India', 'Canada'])\n",
    "plt.xlabel('')\n",
    "plt.title('Money spent per month per country (no outliers)')"
   ]
  },
  {
   "cell_type": "code",
   "execution_count": 44,
   "metadata": {},
   "outputs": [
    {
     "data": {
      "text/plain": [
       "CountryLive\n",
       "Canada                       93.065400\n",
       "India                        72.893205\n",
       "United Kingdom               45.534443\n",
       "United States of America    119.306296\n",
       "Name: MoneySpent, dtype: float64"
      ]
     },
     "execution_count": 44,
     "metadata": {},
     "output_type": "execute_result"
    }
   ],
   "source": [
    "no_outliers.groupby('CountryLive')['MoneySpent'].agg(np.mean)\n",
    "\n"
   ]
  },
  {
   "cell_type": "markdown",
   "metadata": {},
   "source": [
    "After removing outliers (in a extreme arbitrary way) we can see a more down-to-earth picture. USA still seems like the best market, followed by Canada."
   ]
  },
  {
   "cell_type": "markdown",
   "metadata": {},
   "source": [
    "At this point it seems rather obvious that we should choose the US as our market for advertising, it is both big and wealthy, with a big number of new coders and high propensity to spend a lot on learning.\n",
    "<br>\n",
    "Then, countries our company can choose is India or Canada. \n",
    "India is a rapidly developing country, with vast supply of people that are willing to pay for their education.\n",
    "<br>\n",
    "Canada, on the other hand, is much more wealthy than India, it is close to the US.\n"
   ]
  },
  {
   "cell_type": "code",
   "execution_count": null,
   "metadata": {},
   "outputs": [],
   "source": []
  }
 ],
 "metadata": {
  "kernelspec": {
   "display_name": "Python 3",
   "language": "python",
   "name": "python3"
  },
  "language_info": {
   "codemirror_mode": {
    "name": "ipython",
    "version": 3
   },
   "file_extension": ".py",
   "mimetype": "text/x-python",
   "name": "python",
   "nbconvert_exporter": "python",
   "pygments_lexer": "ipython3",
   "version": "3.7.2"
  }
 },
 "nbformat": 4,
 "nbformat_minor": 4
}
